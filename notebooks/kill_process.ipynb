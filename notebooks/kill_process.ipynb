{
 "cells": [
  {
   "cell_type": "code",
   "execution_count": 6,
   "id": "b757b9e6",
   "metadata": {},
   "outputs": [],
   "source": [
    "!for i in $(lsof /dev/nvidia2 | grep python | awk '{print $2}' | sort -u); do kill -9 $i; done"
   ]
  },
  {
   "cell_type": "code",
   "execution_count": null,
   "id": "3fb80530",
   "metadata": {},
   "outputs": [],
   "source": []
  }
 ],
 "metadata": {
  "kernelspec": {
   "display_name": "Python [conda env:p392] *",
   "language": "python",
   "name": "conda-env-p392-py"
  },
  "language_info": {
   "codemirror_mode": {
    "name": "ipython",
    "version": 3
   },
   "file_extension": ".py",
   "mimetype": "text/x-python",
   "name": "python",
   "nbconvert_exporter": "python",
   "pygments_lexer": "ipython3",
   "version": "3.9.7"
  }
 },
 "nbformat": 4,
 "nbformat_minor": 5
}
